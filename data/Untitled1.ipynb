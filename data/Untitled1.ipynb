{
 "cells": [
  {
   "cell_type": "code",
   "execution_count": 1,
   "metadata": {},
   "outputs": [
    {
     "name": "stderr",
     "output_type": "stream",
     "text": [
      "Failed to load Python extension for LZ4 support. LZ4 compression will not be available.\n"
     ]
    }
   ],
   "source": [
    "import rosbag\n",
    "import numpy as np\n",
    "import matplotlib.pyplot as plt"
   ]
  },
  {
   "cell_type": "code",
   "execution_count": 26,
   "metadata": {},
   "outputs": [],
   "source": [
    "bag = rosbag.Bag(\"/home/alfarihfz/FARIH_FIX.bag\")"
   ]
  },
  {
   "cell_type": "code",
   "execution_count": 27,
   "metadata": {},
   "outputs": [
    {
     "name": "stdout",
     "output_type": "stream",
     "text": [
      "header: \n",
      "  seq: 1\n",
      "  stamp: \n",
      "    secs: 1576997349\n",
      "    nsecs: 796997308\n",
      "  frame_id: ''\n",
      "latitude: -6.368651985331259\n",
      "longitude: 106.82803312269209\n",
      "altitude: 2.0\n",
      "heading: 85.0\n",
      "distance: 5.0\n",
      "header: \n",
      "  seq: 2\n",
      "  stamp: \n",
      "    secs: 1576997375\n",
      "    nsecs: 885319709\n",
      "  frame_id: ''\n",
      "latitude: -6.368670870301894\n",
      "longitude: 106.82806112275374\n",
      "altitude: 2.0\n",
      "heading: 123.0\n",
      "distance: 4.0\n"
     ]
    }
   ],
   "source": [
    "pos_raw = []\n",
    "pos = []\n",
    "target = []\n",
    "for topic, msg, time in bag:\n",
    "    if topic == \"/mavros/global_position/raw/fix\":\n",
    "        pos.append([msg.latitude, msg.longitude, msg.altitude])\n",
    "    elif topic == \"/mission\":\n",
    "        print(msg)\n",
    "        target.append([msg.latitude, msg.longitude, msg.heading, msg.altitude])"
   ]
  },
  {
   "cell_type": "code",
   "execution_count": 28,
   "metadata": {},
   "outputs": [],
   "source": [
    "pos = np.array(pos)\n",
    "target = np.array(target)"
   ]
  },
  {
   "cell_type": "code",
   "execution_count": 29,
   "metadata": {},
   "outputs": [
    {
     "data": {
      "text/plain": [
       "(165, 3)"
      ]
     },
     "execution_count": 29,
     "metadata": {},
     "output_type": "execute_result"
    }
   ],
   "source": [
    "pos.shape"
   ]
  },
  {
   "cell_type": "code",
   "execution_count": 30,
   "metadata": {},
   "outputs": [
    {
     "data": {
      "text/plain": [
       "[<matplotlib.lines.Line2D at 0x7fdd889f3550>,\n",
       " <matplotlib.lines.Line2D at 0x7fdd889f36d8>]"
      ]
     },
     "execution_count": 30,
     "metadata": {},
     "output_type": "execute_result"
    },
    {
     "data": {
      "image/png": "[encoded data removed]",
      "text/plain": [
       "<Figure size 432x288 with 1 Axes>"
      ]
     },
     "metadata": {
      "needs_background": "light"
     },
     "output_type": "display_data"
    }
   ],
   "source": [
    "plt.plot(pos[:, 1], pos[:, 0], \"--b\", target[:,1], target[:, 0], \"yo\")"
   ]
  },
  {
   "cell_type": "code",
   "execution_count": null,
   "metadata": {},
   "outputs": [],
   "source": []
  }
 ],
 "metadata": {
  "kernelspec": {
   "display_name": "Python 3",
   "language": "python",
   "name": "python3"
  },
  "language_info": {
   "codemirror_mode": {
    "name": "ipython",
    "version": 3
   },
   "file_extension": ".py",
   "mimetype": "text/x-python",
   "name": "python",
   "nbconvert_exporter": "python",
   "pygments_lexer": "ipython3",
   "version": "3.6.8"
  }
 },
 "nbformat": 4,
 "nbformat_minor": 2
}
